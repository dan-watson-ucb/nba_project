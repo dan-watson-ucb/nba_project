{
 "cells": [
  {
   "cell_type": "markdown",
   "metadata": {},
   "source": [
    "# Update Script\n",
    "This script will update the nba_db on our postgres server. <br>Looks at our last attempted pull date and pulls every date from then until the current date."
   ]
  },
  {
   "cell_type": "code",
   "execution_count": 10,
   "metadata": {},
   "outputs": [],
   "source": [
    "import io\n",
    "import os\n",
    "import psycopg2\n",
    "from psycopg2 import Error\n",
    "from sqlalchemy import create_engine\n",
    "import pandas as pd\n",
    "import datetime as dt \n",
    "import random\n",
    "\n",
    "from nba_api.stats.static import teams\n",
    "import nba_api.stats.endpoints as ep\n",
    "\n",
    "#internal scripts\n",
    "import proj_functions\n",
    "from connection_data import c_data\n"
   ]
  },
  {
   "cell_type": "markdown",
   "metadata": {},
   "source": [
    "### File Locations"
   ]
  },
  {
   "cell_type": "code",
   "execution_count": 2,
   "metadata": {},
   "outputs": [],
   "source": [
    "loc_scoreboard = '/media/dan/Dan External/nba_data/scoreboard/'\n",
    "loc_player_bs_trad = '/media/dan/Dan External/nba_data/player_bs_trad/'\n",
    "loc_player_bs_advanced = '/media/dan/Dan External/nba_data/player_bs_advanced/'\n",
    "loc_player_bs_ff = '/media/dan/Dan External/nba_data/player_bs_ff/'\n",
    "loc_player_bs_misc = '/media/dan/Dan External/nba_data/player_bs_misc/'\n",
    "loc_player_bs_pt = '/media/dan/Dan External/nba_data/player_bs_pt/'\n",
    "loc_player_bs_scoring = '/media/dan/Dan External/nba_data/player_bs_scoring/'\n",
    "loc_player_bs_summ = '/media/dan/Dan External/nba_data/player_bs_summ/'\n",
    "loc_player_bs_tracking = '/media/dan/Dan External/nba_data/player_bs_tracking/'\n",
    "loc_player_bs_usage = '/media/dan/Dan External/nba_data/player_bs_usage/'\n",
    "\n",
    "loc_team_bs_trad = '/media/dan/Dan External/nba_data/team_bs_trad/'\n",
    "loc_team_bs_advanced = '/media/dan/Dan External/nba_data/team_bs_advanced/'\n",
    "loc_team_bs_ff = '/media/dan/Dan External/nba_data/team_bs_ff/'\n",
    "loc_team_bs_misc = '/media/dan/Dan External/nba_data/team_bs_misc/'\n",
    "loc_team_bs_pt = '/media/dan/Dan External/nba_data/team_bs_pt/'\n",
    "loc_team_bs_scoring = '/media/dan/Dan External/nba_data/team_bs_scoring/'\n",
    "loc_team_bs_summ = '/media/dan/Dan External/nba_data/team_bs_summ/'\n",
    "loc_team_bs_tracking = '/media/dan/Dan External/nba_data/team_bs_tracking/'"
   ]
  },
  {
   "cell_type": "markdown",
   "metadata": {},
   "source": [
    "## Script"
   ]
  },
  {
   "cell_type": "code",
   "execution_count": 6,
   "metadata": {},
   "outputs": [],
   "source": [
    "nba_teams = pd.DataFrame(teams.get_teams())\n"
   ]
  },
  {
   "cell_type": "code",
   "execution_count": 9,
   "metadata": {},
   "outputs": [
    {
     "name": "stdout",
     "output_type": "stream",
     "text": [
      "connection_data.py  __pycache__\t\tupdate_script.ipynb\r\n",
      "proj_functions.py   team_builder.ipynb\r\n"
     ]
    }
   ],
   "source": []
  },
  {
   "cell_type": "code",
   "execution_count": 72,
   "metadata": {},
   "outputs": [
    {
     "data": {
      "text/plain": [
       "0    2016-04-17\n",
       "Name: last_pull, dtype: object"
      ]
     },
     "execution_count": 72,
     "metadata": {},
     "output_type": "execute_result"
    }
   ],
   "source": [
    "last_date = get_last_date()\n",
    "last_date"
   ]
  },
  {
   "cell_type": "code",
   "execution_count": 58,
   "metadata": {},
   "outputs": [
    {
     "data": {
      "text/plain": [
       "0    2016-04-18\n",
       "Name: last_pull, dtype: object"
      ]
     },
     "execution_count": 58,
     "metadata": {},
     "output_type": "execute_result"
    }
   ],
   "source": [
    "pull_date = last_date + dt.timedelta(1)\n",
    "pull_date"
   ]
  },
  {
   "cell_type": "code",
   "execution_count": 54,
   "metadata": {},
   "outputs": [
    {
     "data": {
      "text/plain": [
       "0    2016-04-18\n",
       "Name: last_pull, dtype: object"
      ]
     },
     "execution_count": 54,
     "metadata": {},
     "output_type": "execute_result"
    }
   ],
   "source": [
    "while pull_date < today:\n",
    "    try:\n",
    "        get_gids(last_d nba_teams)"
   ]
  },
  {
   "cell_type": "code",
   "execution_count": 73,
   "metadata": {},
   "outputs": [],
   "source": [
    "gids = get_gids(last_date, nba_teams)"
   ]
  },
  {
   "cell_type": "code",
   "execution_count": 74,
   "metadata": {},
   "outputs": [],
   "source": [
    "test_df = get_team_bs_trad(gids)"
   ]
  },
  {
   "cell_type": "code",
   "execution_count": 77,
   "metadata": {},
   "outputs": [],
   "source": [
    "gid = gid = '0041500101'"
   ]
  },
  {
   "cell_type": "code",
   "execution_count": 78,
   "metadata": {},
   "outputs": [],
   "source": [
    "test_df = ep.BoxScorePlayerTrackV2(gid).get_data_frames()[1]"
   ]
  },
  {
   "cell_type": "code",
   "execution_count": 80,
   "metadata": {},
   "outputs": [],
   "source": [
    "upload_data(test_df, 'team_tracker')"
   ]
  },
  {
   "cell_type": "code",
   "execution_count": null,
   "metadata": {},
   "outputs": [],
   "source": []
  }
 ],
 "metadata": {
  "kernelspec": {
   "display_name": "Python 3",
   "language": "python",
   "name": "python3"
  },
  "language_info": {
   "codemirror_mode": {
    "name": "ipython",
    "version": 3
   },
   "file_extension": ".py",
   "mimetype": "text/x-python",
   "name": "python",
   "nbconvert_exporter": "python",
   "pygments_lexer": "ipython3",
   "version": "3.8.1"
  }
 },
 "nbformat": 4,
 "nbformat_minor": 4
}
