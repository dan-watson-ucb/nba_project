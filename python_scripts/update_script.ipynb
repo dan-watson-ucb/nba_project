{
 "cells": [
  {
   "cell_type": "markdown",
   "metadata": {},
   "source": [
    "# Update Script\n",
    "This script will update the nba_db on our postgres server. <br>Looks at our last attempted pull date and pulls every date from then until the current date."
   ]
  },
  {
   "cell_type": "code",
   "execution_count": 39,
   "metadata": {},
   "outputs": [],
   "source": [
    "import io\n",
    "import os\n",
    "import psycopg2 as pg\n",
    "from psycopg2 import Error\n",
    "from sqlalchemy import create_engine\n",
    "import pandas as pd\n",
    "import datetime as dt \n",
    "import random\n",
    "from time import sleep\n",
    "\n",
    "\n",
    "import nba_api.stats.endpoints as ep\n",
    "\n",
    "#internal scripts\n",
    "import proj_functions as pf\n",
    "from connection_data import c_data\n"
   ]
  },
  {
   "cell_type": "markdown",
   "metadata": {},
   "source": [
    "### File Locations"
   ]
  },
  {
   "cell_type": "code",
   "execution_count": 2,
   "metadata": {},
   "outputs": [],
   "source": [
    "loc_scoreboard = '/media/dan/Dan External/nba_data/scoreboard/'\n",
    "loc_player_bs_trad = '/media/dan/Dan External/nba_data/player_bs_trad/'\n",
    "loc_player_bs_advanced = '/media/dan/Dan External/nba_data/player_bs_advanced/'\n",
    "loc_player_bs_ff = '/media/dan/Dan External/nba_data/player_bs_ff/'\n",
    "loc_player_bs_misc = '/media/dan/Dan External/nba_data/player_bs_misc/'\n",
    "loc_player_bs_pt = '/media/dan/Dan External/nba_data/player_bs_pt/'\n",
    "loc_player_bs_scoring = '/media/dan/Dan External/nba_data/player_bs_scoring/'\n",
    "loc_player_bs_summ = '/media/dan/Dan External/nba_data/player_bs_summ/'\n",
    "loc_player_bs_tracking = '/media/dan/Dan External/nba_data/player_bs_tracking/'\n",
    "loc_player_bs_usage = '/media/dan/Dan External/nba_data/player_bs_usage/'\n",
    "\n",
    "loc_team_bs_trad = '/media/dan/Dan External/nba_data/team_bs_trad/'\n",
    "loc_team_bs_advanced = '/media/dan/Dan External/nba_data/team_bs_advanced/'\n",
    "loc_team_bs_ff = '/media/dan/Dan External/nba_data/team_bs_ff/'\n",
    "loc_team_bs_misc = '/media/dan/Dan External/nba_data/team_bs_misc/'\n",
    "loc_team_bs_pt = '/media/dan/Dan External/nba_data/team_bs_pt/'\n",
    "loc_team_bs_scoring = '/media/dan/Dan External/nba_data/team_bs_scoring/'\n",
    "loc_team_bs_summ = '/media/dan/Dan External/nba_data/team_bs_summ/'\n",
    "loc_team_bs_tracking = '/media/dan/Dan External/nba_data/team_bs_tracking/'"
   ]
  },
  {
   "cell_type": "code",
   "execution_count": 28,
   "metadata": {},
   "outputs": [],
   "source": [
    "file_names = ['scoreboard_{}_{}_{}', 'player_bs_trad_{}_{}_{}', 'player_bs_adv_{}_{}_{}',\n",
    "             'player_bs_ff_{}_{}_{}', 'player_bs_misc_{}_{}_{}', 'player_bs_pt_{}_{}_{}',\n",
    "             'player_bs_scoring_{}_{}_{}', 'player_bs_summ_{}_{}_{}', 'player_bs_tracking_{}_{}_{}',\n",
    "             'player_bs_usage_{}_{}_{}', 'team_bs_trad_{}_{}_{}', 'team_bs_adv_{}_{}_{}', \n",
    "             'team_bs_ff_{}_{}_{}', 'team_bs_misc_{}_{}_{}', 'team_bs_pt_{}_{}_{}', \n",
    "             'team_bs_scoring_{}_{}_{}', 'team_bs_summ_{}_{}_{}', 'team_bs_tracking_{}_{}_{}']\n",
    "table_names = ['raw.scoreboard', 'raw.player_bs', 'raw.player_bs_adv', 'raw.player_bs_ff',\n",
    "               'raw.player_bs_misc', 'raw.player_bs_pt', 'raw.player_bs_scoring', 'raw.player_bs_summ',\n",
    "               'raw.player_bs_tracking', 'raw.player_bs_usage', 'raw.team_bs', 'raw.team_bs_adv', \n",
    "               'raw.team_bs_ff', 'raw.team_bs_misc','raw.team_bs_pt', 'raw.team_bs_scoring', \n",
    "              'raw.team_bs_summ', 'raw.team_bs_tracking']\n",
    "save_locations = [loc_scoreboard, loc_player_bs_trad, loc_player_bs_advanced,\n",
    "                  loc_player_bs_ff, loc_player_bs_misc, loc_player_bs_pt, \n",
    "                  loc_player_bs_scoring, loc_player_bs_summ, loc_player_bs_tracking,\n",
    "                  loc_player_bs_usage, loc_team_bs_trad, loc_team_bs_advanced,\n",
    "                  loc_team_bs_ff, loc_team_bs_misc, loc_team_bs_pt, loc_team_bs_scoring,\n",
    "                  loc_team_bs_summ, loc_team_bs_tracking]"
   ]
  },
  {
   "cell_type": "markdown",
   "metadata": {},
   "source": [
    "## Script"
   ]
  },
  {
   "cell_type": "code",
   "execution_count": 5,
   "metadata": {},
   "outputs": [],
   "source": [
    "#Start with the last date pulled\n",
    "last_pull_date = pf.get_last_date()\n",
    "yesterday = dt.date.today() - dt.timedelta(a)\n",
    "\n",
    "while last_pull_date < yesterday\n",
    "    try:\n",
    "        #add sleep to reduce chances of being blocked\n",
    "        sleep(random.choices([1, 10, 100], weights=[.58, .41, .01])[0] * random.uniform(.01, 3))\n",
    "        # pull the scoreboard for the current pull date\n",
    "        sb = pf.get_scoreboard(current_pull_date)\n",
    "        if sb == 'no games':\n",
    "            update_last_date(current_pull_date)\n",
    "            pass\n",
    "        gids = sb['GAME_ID']\n",
    "        # get all dataframes\n",
    "        df_player_bs_advanced = pf.get_player_bs_advanced(gids)\n",
    "        df_team_bs_advanced = pf.get_df_team_bs_advanced(gids)\n",
    "\n",
    "        df_player_bs_ff = pf.get_player_bs_ff(gids)\n",
    "        df_team_bs_ff = pf.get_team_bs_ff(gids)\n",
    "\n",
    "        df_player_bs_misc = pf.get_player_bs_misc(gids)\n",
    "        df_team_bs_misc = pf.get_team_bs_misc(gids)\n",
    "\n",
    "        df_player_bs_pt = pf.get_player_bs_pt(gids)\n",
    "        df_team_bs_pt = pf.get_player_bs_pt(gids)\n",
    "        \n",
    "        #add a sleep to reduce chances of being blocked\n",
    "        sleep(random.choices([1, 10, 100], weights=[.58, .41, .01])[0] * random.uniform(.01, 3))\n",
    "\n",
    "        df_player_bs_scoring = pf.get_player_bs_scoring(gids)\n",
    "        df_team_bs_scoring = pf.get_team_bs_scoring(gids)\n",
    "\n",
    "        df_player_bs_summ = pf.get_player_bs_summ(gids)\n",
    "        df_team_bs_summ = pf.get_team_bs_summ(gids)\n",
    "\n",
    "        df_player_bs_trad = pf.get_player_bs_trad(gids)\n",
    "        df_team_bs_trad = pf.get_team_bs_trad(gids)\n",
    "\n",
    "        df_player_bs_tracking = pf.get_player_bs_tracking(gids)\n",
    "        df_team_bs_tracking = pf.get_team_bs_tracking(gids)\n",
    "\n",
    "        df_player_bs_usage = pf.get_player_bs_usage(gids)\n",
    "\n",
    "        dfs = [sb, df_player_bs_trad, df_player_bs_advanced, df_player_bs_ff,\n",
    "              df_player_bs_misc, df_player_bs_pt, df_player_bs_scoring,\n",
    "              df_player_bs_summ, df_player_bs_tracking, df_team_bs_trad,\n",
    "              df_team_bs_advanced, df_team_bs_ff, df_team_bs_misc, df_team_bs_pt,\n",
    "              df_team_bs_scoring, df_team_bs_summ, df_team_bs_tracking]\n",
    "\n",
    "        # Save Dataframes if have data and upload to database\n",
    "        for df, name, table, location in zip(dfs, file_names, table_names, save_locations):\n",
    "            df['file_name'] = name.format(current_pull_date.year, current_pull_date.month, current_pull_date.day)\n",
    "            save_data(df, name, location)\n",
    "            upload_data(df, table)\n",
    "\n",
    "        #update the last pull date\n",
    "        update_last_date(current_pull_date)\n",
    "        last_pull_date = pf.get_last_date()\n",
    "\n",
    "\n",
    "\n",
    "    Except:\n",
    "        print('Error')\n",
    "        break"
   ]
  }
 ],
 "metadata": {
  "kernelspec": {
   "display_name": "Python 3",
   "language": "python",
   "name": "python3"
  },
  "language_info": {
   "codemirror_mode": {
    "name": "ipython",
    "version": 3
   },
   "file_extension": ".py",
   "mimetype": "text/x-python",
   "name": "python",
   "nbconvert_exporter": "python",
   "pygments_lexer": "ipython3",
   "version": "3.8.1"
  }
 },
 "nbformat": 4,
 "nbformat_minor": 4
}
